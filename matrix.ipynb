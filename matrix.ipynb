{
 "cells": [
  {
   "cell_type": "code",
   "execution_count": 5,
   "metadata": {},
   "outputs": [],
   "source": [
    "import numpy as np"
   ]
  },
  {
   "cell_type": "code",
   "execution_count": 6,
   "metadata": {},
   "outputs": [
    {
     "name": "stdout",
     "output_type": "stream",
     "text": [
      "10.0 x0 - 1.0 x1 + 2.0 x2 + 0.0 x3 = 6.0\n",
      "-1.0 x0 + 11.0 x1 - 1.0 x2 + 3.0 x3 = 25.0\n",
      "2.0 x0 - 1.0 x1 + 10.0 x2 - 1.0 x3 = -11.0\n",
      "0.0 x0 + 3.0 x1 - 1.0 x2 + 8.0 x3 = 15.0\n"
     ]
    }
   ],
   "source": [
    "N = 1000\n",
    "A = np.array([\n",
    "        [10.0, -1.0, 2.0, 0.0],\n",
    "        [-1.0, 11.0, -1.0, 3.0],\n",
    "        [2.0, -1.0, 10.0, -1.0],\n",
    "        [0.0, 3.0, -1.0, 8.0],\n",
    "    ])\n",
    "b = np.array([6.0, 25.0, -11.0, 15.0])\n",
    "\n",
    "for i, row in enumerate(A): \n",
    "    s = \" + \".join([f\"{e} x{i}\" for i, e in enumerate(row)]) + \" = \" +  str(b[i])\n",
    "    print(s.replace(\"+ -\", \"- \"))"
   ]
  },
  {
   "cell_type": "code",
   "execution_count": 27,
   "metadata": {},
   "outputs": [],
   "source": [
    "# gauss jacobi\n",
    "x = np.zeros_like(b)\n",
    "for it_count in range(N):\n",
    "    x_new = np.zeros_like(x)\n",
    "    for i in range(A.shape[0]):\n",
    "        s1 = np.dot(A[i, :i], x[:i])\n",
    "        s2 = np.dot(A[i, i + 1:], x[i + 1:])\n",
    "        x_new[i] = (b[i] - s1 - s2) / A[i, i]\n",
    "        if x_new[i] == x_new[i-1]: break\n",
    "    if np.allclose(x, x_new, atol=1e-10, rtol=0.): break\n",
    "    x = x_new"
   ]
  },
  {
   "cell_type": "code",
   "execution_count": 28,
   "metadata": {},
   "outputs": [],
   "source": [
    "# gauss seidel\n",
    "x = np.zeros_like(b, np.float_)\n",
    "for it_count in range(1, N):\n",
    "    x_new = np.zeros_like(x, dtype=np.float_)\n",
    "    for i in range(A.shape[0]):\n",
    "        s1 = np.dot(A[i, :i], x_new[:i])\n",
    "        s2 = np.dot(A[i, i + 1 :], x[i + 1 :])\n",
    "        x_\n",
    "        new[i] = (b[i] - s1 - s2) / A[i, i]\n",
    "    if np.allclose(x, x_new, rtol=1e-8): break\n",
    "    x = x_new"
   ]
  },
  {
   "cell_type": "markdown",
   "metadata": {},
   "source": []
  },
  {
   "cell_type": "code",
   "execution_count": 29,
   "metadata": {},
   "outputs": [
    {
     "name": "stdout",
     "output_type": "stream",
     "text": [
      "[ 1.  2. -1.  1.]\n",
      "[ 1.  2. -1.  1.]\n",
      "[ 1.  2. -1.  1.]\n",
      "[ 1.  2. -1.  1.]\n"
     ]
    }
   ],
   "source": [
    "for row in x: print(x)"
   ]
  }
 ],
 "metadata": {
  "kernelspec": {
   "display_name": "Python 3",
   "language": "python",
   "name": "python3"
  },
  "language_info": {
   "codemirror_mode": {
    "name": "ipython",
    "version": 3
   },
   "file_extension": ".py",
   "mimetype": "text/x-python",
   "name": "python",
   "nbconvert_exporter": "python",
   "pygments_lexer": "ipython3",
   "version": "3.12.0"
  }
 },
 "nbformat": 4,
 "nbformat_minor": 2
}
